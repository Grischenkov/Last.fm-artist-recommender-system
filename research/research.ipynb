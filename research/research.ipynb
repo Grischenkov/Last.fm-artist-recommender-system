{
 "cells": [
  {
   "cell_type": "code",
   "execution_count": 1,
   "metadata": {},
   "outputs": [
    {
     "name": "stderr",
     "output_type": "stream",
     "text": [
      "/Users/grshchnkv/opt/anaconda3/envs/Lastfm-artist-recommender/lib/python3.10/site-packages/tqdm/auto.py:21: TqdmWarning: IProgress not found. Please update jupyter and ipywidgets. See https://ipywidgets.readthedocs.io/en/stable/user_install.html\n",
      "  from .autonotebook import tqdm as notebook_tqdm\n"
     ]
    }
   ],
   "source": [
    "import os\n",
    "import time\n",
    "import pickle\n",
    "\n",
    "import implicit\n",
    "import numpy as np\n",
    "import pandas as pd\n",
    "\n",
    "from tqdm import tqdm\n",
    "from scipy.sparse import csr_matrix\n",
    "from sklearn.preprocessing import normalize\n",
    "from sklearn.neighbors import NearestNeighbors"
   ]
  },
  {
   "attachments": {},
   "cell_type": "markdown",
   "metadata": {},
   "source": [
    "# Общее"
   ]
  },
  {
   "attachments": {},
   "cell_type": "markdown",
   "metadata": {},
   "source": [
    "## Метрики"
   ]
  },
  {
   "cell_type": "code",
   "execution_count": 2,
   "metadata": {},
   "outputs": [],
   "source": [
    "def precision(actual: list, predicted: list) -> float:\n",
    "    return len(list(set(actual) & set(predicted))) / len(predicted)"
   ]
  },
  {
   "cell_type": "code",
   "execution_count": 3,
   "metadata": {},
   "outputs": [],
   "source": [
    "def mean_precision(scores: list, n: int) -> float:\n",
    "    return np.array(scores).sum() / n"
   ]
  },
  {
   "attachments": {},
   "cell_type": "markdown",
   "metadata": {},
   "source": [
    "## Загрузка данных"
   ]
  },
  {
   "cell_type": "code",
   "execution_count": 4,
   "metadata": {},
   "outputs": [],
   "source": [
    "artists = pd.read_csv('../data/lastfm_artist_list.csv', index_col='artist_id')['artist_name'].to_dict()"
   ]
  },
  {
   "cell_type": "code",
   "execution_count": 5,
   "metadata": {},
   "outputs": [],
   "source": [
    "scrobbles = pd.read_csv('../data/lastfm_user_scrobbles.csv')"
   ]
  },
  {
   "attachments": {},
   "cell_type": "markdown",
   "metadata": {},
   "source": [
    "## Подготовка данных"
   ]
  },
  {
   "attachments": {},
   "cell_type": "markdown",
   "metadata": {},
   "source": [
    "### Данные для моделей"
   ]
  },
  {
   "cell_type": "code",
   "execution_count": 6,
   "metadata": {},
   "outputs": [],
   "source": [
    "users_indexes, users_positions = np.unique(scrobbles.values[:,0], return_inverse=True)\n",
    "artists_indexes, artists_positions = np.unique(scrobbles.values[:,1], return_inverse=True)"
   ]
  },
  {
   "cell_type": "code",
   "execution_count": 7,
   "metadata": {},
   "outputs": [],
   "source": [
    "scrobbles_sparse = csr_matrix((scrobbles.values[:,2], (users_positions, artists_positions)))\n",
    "scrobbles_sparse_normalized = normalize(scrobbles_sparse, norm='l2', axis=1)"
   ]
  },
  {
   "attachments": {},
   "cell_type": "markdown",
   "metadata": {},
   "source": [
    "### Данные для тестирования"
   ]
  },
  {
   "cell_type": "code",
   "execution_count": 8,
   "metadata": {},
   "outputs": [],
   "source": [
    "validation = scrobbles.groupby('user_id')['artist_id'].apply(list).to_dict()"
   ]
  },
  {
   "attachments": {},
   "cell_type": "markdown",
   "metadata": {},
   "source": [
    "# Рекомендации"
   ]
  },
  {
   "attachments": {},
   "cell_type": "markdown",
   "metadata": {},
   "source": [
    "Число похожих для поиска"
   ]
  },
  {
   "cell_type": "code",
   "execution_count": 9,
   "metadata": {},
   "outputs": [],
   "source": [
    "k = 5"
   ]
  },
  {
   "attachments": {},
   "cell_type": "markdown",
   "metadata": {},
   "source": [
    "## Baseline. Рекомендация самых популярных"
   ]
  },
  {
   "attachments": {},
   "cell_type": "markdown",
   "metadata": {},
   "source": [
    "Найдем максимально необходимый топ исполнителей по прослушиваниям"
   ]
  },
  {
   "cell_type": "code",
   "execution_count": 10,
   "metadata": {},
   "outputs": [],
   "source": [
    "max_users_listens = scrobbles.groupby('user_id').count()['artist_id'].max()\n",
    "most_listend_artists = scrobbles.groupby('artist_id').sum()['scrobbles'].sort_values()[-k*max_users_listens:].index"
   ]
  },
  {
   "cell_type": "code",
   "execution_count": 11,
   "metadata": {},
   "outputs": [],
   "source": [
    "pickle.dump(most_listend_artists, open(\"most_listend_artists.pkl\", \"wb\"))\n",
    "size = os.path.getsize(\"most_listend_artists.pkl\")"
   ]
  },
  {
   "attachments": {},
   "cell_type": "markdown",
   "metadata": {},
   "source": [
    "Построим рекомендации"
   ]
  },
  {
   "cell_type": "code",
   "execution_count": 12,
   "metadata": {},
   "outputs": [
    {
     "name": "stderr",
     "output_type": "stream",
     "text": [
      "100%|██████████| 1892/1892 [00:00<00:00, 47204.10it/s]\n"
     ]
    }
   ],
   "source": [
    "start = time.time()\n",
    "scores = []\n",
    "users = 0\n",
    "for user in tqdm(validation):\n",
    "    if len(validation[user]) <= 1:\n",
    "        continue\n",
    "    scores.append(precision(validation[user], most_listend_artists[-k*len(validation[user]):]))\n",
    "    users += 1\n",
    "score = mean_precision(scores, users)\n",
    "end = time.time() - start"
   ]
  },
  {
   "attachments": {},
   "cell_type": "markdown",
   "metadata": {},
   "source": [
    "Оценка"
   ]
  },
  {
   "cell_type": "code",
   "execution_count": 13,
   "metadata": {},
   "outputs": [
    {
     "name": "stdout",
     "output_type": "stream",
     "text": [
      "Метрика: 0.07037536297107326\n",
      "Затраченная память: 2271 байт\n",
      "Затраченное время: 0.061167240142822266 секунд\n"
     ]
    }
   ],
   "source": [
    "print(f\"Метрика: {score}\")\n",
    "print(f\"Затраченная память: {size} байт\")\n",
    "print(f\"Затраченное время: {end} секунд\")"
   ]
  },
  {
   "attachments": {},
   "cell_type": "markdown",
   "metadata": {},
   "source": [
    "## Матрица схожести"
   ]
  },
  {
   "attachments": {},
   "cell_type": "markdown",
   "metadata": {},
   "source": [
    "Построим модель"
   ]
  },
  {
   "cell_type": "code",
   "execution_count": 14,
   "metadata": {},
   "outputs": [],
   "source": [
    "artists_similarity = scrobbles_sparse_normalized.T * scrobbles_sparse_normalized"
   ]
  },
  {
   "cell_type": "code",
   "execution_count": 15,
   "metadata": {},
   "outputs": [],
   "source": [
    "pickle.dump(artists_similarity, open(\"artists_similarity.pkl\", \"wb\"))\n",
    "size = os.path.getsize(\"artists_similarity.pkl\")"
   ]
  },
  {
   "attachments": {},
   "cell_type": "markdown",
   "metadata": {},
   "source": [
    "Построим рекомендации"
   ]
  },
  {
   "cell_type": "code",
   "execution_count": 16,
   "metadata": {},
   "outputs": [],
   "source": [
    "def get_k_similar_matrix(target: int, k: int) -> list:\n",
    "    return [x+1 for x in artists_similarity[target-1].toarray()[0].argsort()[-k-1:]][:-1]"
   ]
  },
  {
   "cell_type": "code",
   "execution_count": 17,
   "metadata": {},
   "outputs": [
    {
     "name": "stderr",
     "output_type": "stream",
     "text": [
      "100%|██████████| 1892/1892 [05:09<00:00,  6.11it/s]\n"
     ]
    }
   ],
   "source": [
    "start = time.time()\n",
    "scores = []\n",
    "users = 0\n",
    "for user in tqdm(validation):\n",
    "    if len(validation[user]) <= 1:\n",
    "        continue\n",
    "    predictions = []\n",
    "    for artist in validation[user]:\n",
    "        predictions += get_k_similar_matrix(artist, k)\n",
    "    scores.append(precision(validation[user], predictions))\n",
    "    users += 1\n",
    "score = mean_precision(scores, users)\n",
    "end = time.time() - start"
   ]
  },
  {
   "attachments": {},
   "cell_type": "markdown",
   "metadata": {},
   "source": [
    "Оценка"
   ]
  },
  {
   "cell_type": "code",
   "execution_count": 18,
   "metadata": {},
   "outputs": [
    {
     "name": "stdout",
     "output_type": "stream",
     "text": [
      "Метрика: 0.11348452374549088\n",
      "Затраченная память: 31825587 байт\n",
      "Затраченное время: 309.63960695266724 секунд\n"
     ]
    }
   ],
   "source": [
    "print(f\"Метрика: {score}\")\n",
    "print(f\"Затраченная память: {size} байт\")\n",
    "print(f\"Затраченное время: {end} секунд\")"
   ]
  },
  {
   "attachments": {},
   "cell_type": "markdown",
   "metadata": {},
   "source": [
    "## kNN"
   ]
  },
  {
   "attachments": {},
   "cell_type": "markdown",
   "metadata": {},
   "source": [
    "Построим модель"
   ]
  },
  {
   "cell_type": "code",
   "execution_count": 19,
   "metadata": {},
   "outputs": [
    {
     "data": {
      "text/html": [
       "<style>#sk-container-id-1 {color: black;background-color: white;}#sk-container-id-1 pre{padding: 0;}#sk-container-id-1 div.sk-toggleable {background-color: white;}#sk-container-id-1 label.sk-toggleable__label {cursor: pointer;display: block;width: 100%;margin-bottom: 0;padding: 0.3em;box-sizing: border-box;text-align: center;}#sk-container-id-1 label.sk-toggleable__label-arrow:before {content: \"▸\";float: left;margin-right: 0.25em;color: #696969;}#sk-container-id-1 label.sk-toggleable__label-arrow:hover:before {color: black;}#sk-container-id-1 div.sk-estimator:hover label.sk-toggleable__label-arrow:before {color: black;}#sk-container-id-1 div.sk-toggleable__content {max-height: 0;max-width: 0;overflow: hidden;text-align: left;background-color: #f0f8ff;}#sk-container-id-1 div.sk-toggleable__content pre {margin: 0.2em;color: black;border-radius: 0.25em;background-color: #f0f8ff;}#sk-container-id-1 input.sk-toggleable__control:checked~div.sk-toggleable__content {max-height: 200px;max-width: 100%;overflow: auto;}#sk-container-id-1 input.sk-toggleable__control:checked~label.sk-toggleable__label-arrow:before {content: \"▾\";}#sk-container-id-1 div.sk-estimator input.sk-toggleable__control:checked~label.sk-toggleable__label {background-color: #d4ebff;}#sk-container-id-1 div.sk-label input.sk-toggleable__control:checked~label.sk-toggleable__label {background-color: #d4ebff;}#sk-container-id-1 input.sk-hidden--visually {border: 0;clip: rect(1px 1px 1px 1px);clip: rect(1px, 1px, 1px, 1px);height: 1px;margin: -1px;overflow: hidden;padding: 0;position: absolute;width: 1px;}#sk-container-id-1 div.sk-estimator {font-family: monospace;background-color: #f0f8ff;border: 1px dotted black;border-radius: 0.25em;box-sizing: border-box;margin-bottom: 0.5em;}#sk-container-id-1 div.sk-estimator:hover {background-color: #d4ebff;}#sk-container-id-1 div.sk-parallel-item::after {content: \"\";width: 100%;border-bottom: 1px solid gray;flex-grow: 1;}#sk-container-id-1 div.sk-label:hover label.sk-toggleable__label {background-color: #d4ebff;}#sk-container-id-1 div.sk-serial::before {content: \"\";position: absolute;border-left: 1px solid gray;box-sizing: border-box;top: 0;bottom: 0;left: 50%;z-index: 0;}#sk-container-id-1 div.sk-serial {display: flex;flex-direction: column;align-items: center;background-color: white;padding-right: 0.2em;padding-left: 0.2em;position: relative;}#sk-container-id-1 div.sk-item {position: relative;z-index: 1;}#sk-container-id-1 div.sk-parallel {display: flex;align-items: stretch;justify-content: center;background-color: white;position: relative;}#sk-container-id-1 div.sk-item::before, #sk-container-id-1 div.sk-parallel-item::before {content: \"\";position: absolute;border-left: 1px solid gray;box-sizing: border-box;top: 0;bottom: 0;left: 50%;z-index: -1;}#sk-container-id-1 div.sk-parallel-item {display: flex;flex-direction: column;z-index: 1;position: relative;background-color: white;}#sk-container-id-1 div.sk-parallel-item:first-child::after {align-self: flex-end;width: 50%;}#sk-container-id-1 div.sk-parallel-item:last-child::after {align-self: flex-start;width: 50%;}#sk-container-id-1 div.sk-parallel-item:only-child::after {width: 0;}#sk-container-id-1 div.sk-dashed-wrapped {border: 1px dashed gray;margin: 0 0.4em 0.5em 0.4em;box-sizing: border-box;padding-bottom: 0.4em;background-color: white;}#sk-container-id-1 div.sk-label label {font-family: monospace;font-weight: bold;display: inline-block;line-height: 1.2em;}#sk-container-id-1 div.sk-label-container {text-align: center;}#sk-container-id-1 div.sk-container {/* jupyter's `normalize.less` sets `[hidden] { display: none; }` but bootstrap.min.css set `[hidden] { display: none !important; }` so we also need the `!important` here to be able to override the default hidden behavior on the sphinx rendered scikit-learn.org. See: https://github.com/scikit-learn/scikit-learn/issues/21755 */display: inline-block !important;position: relative;}#sk-container-id-1 div.sk-text-repr-fallback {display: none;}</style><div id=\"sk-container-id-1\" class=\"sk-top-container\"><div class=\"sk-text-repr-fallback\"><pre>NearestNeighbors(metric=&#x27;cosine&#x27;, n_neighbors=200)</pre><b>In a Jupyter environment, please rerun this cell to show the HTML representation or trust the notebook. <br />On GitHub, the HTML representation is unable to render, please try loading this page with nbviewer.org.</b></div><div class=\"sk-container\" hidden><div class=\"sk-item\"><div class=\"sk-estimator sk-toggleable\"><input class=\"sk-toggleable__control sk-hidden--visually\" id=\"sk-estimator-id-1\" type=\"checkbox\" checked><label for=\"sk-estimator-id-1\" class=\"sk-toggleable__label sk-toggleable__label-arrow\">NearestNeighbors</label><div class=\"sk-toggleable__content\"><pre>NearestNeighbors(metric=&#x27;cosine&#x27;, n_neighbors=200)</pre></div></div></div></div></div>"
      ],
      "text/plain": [
       "NearestNeighbors(metric='cosine', n_neighbors=200)"
      ]
     },
     "execution_count": 19,
     "metadata": {},
     "output_type": "execute_result"
    }
   ],
   "source": [
    "knn = NearestNeighbors(metric = 'cosine', n_neighbors = 200)\n",
    "knn.fit(scrobbles_sparse_normalized.T)"
   ]
  },
  {
   "cell_type": "code",
   "execution_count": 20,
   "metadata": {},
   "outputs": [],
   "source": [
    "pickle.dump(knn, open(\"knn.pkl\", \"wb\"))\n",
    "size = os.path.getsize(\"knn.pkl\")"
   ]
  },
  {
   "attachments": {},
   "cell_type": "markdown",
   "metadata": {},
   "source": [
    "Построим рекомендации"
   ]
  },
  {
   "cell_type": "code",
   "execution_count": 21,
   "metadata": {},
   "outputs": [],
   "source": [
    "def get_k_similar_knn(target: int, k: int) -> list:\n",
    "    distances, indices = knn.kneighbors(scrobbles_sparse_normalized.T[target-1].toarray(), n_neighbors=k+1)\n",
    "    return [x+1 for x in indices[0]][1:]"
   ]
  },
  {
   "cell_type": "code",
   "execution_count": 22,
   "metadata": {},
   "outputs": [
    {
     "name": "stderr",
     "output_type": "stream",
     "text": [
      "100%|██████████| 1892/1892 [02:42<00:00, 11.61it/s]\n"
     ]
    }
   ],
   "source": [
    "start = time.time()\n",
    "scores = []\n",
    "users = 0\n",
    "for user in tqdm(validation):\n",
    "    if len(validation[user]) <= 1:\n",
    "        continue\n",
    "    predictions = []\n",
    "    for artist in validation[user]:\n",
    "        predictions += get_k_similar_knn(artist, k)\n",
    "    scores.append(precision(validation[user], predictions))\n",
    "    users += 1\n",
    "score = mean_precision(scores, users)\n",
    "end = time.time() - start"
   ]
  },
  {
   "attachments": {},
   "cell_type": "markdown",
   "metadata": {},
   "source": [
    "Оценка"
   ]
  },
  {
   "cell_type": "code",
   "execution_count": 23,
   "metadata": {},
   "outputs": [
    {
     "name": "stdout",
     "output_type": "stream",
     "text": [
      "Метрика: 0.07468196033949652\n",
      "Затраченная память: 1183374 байт\n",
      "Затраченное время: 162.9682400226593 секунд\n"
     ]
    }
   ],
   "source": [
    "print(f\"Метрика: {score}\")\n",
    "print(f\"Затраченная память: {size} байт\")\n",
    "print(f\"Затраченное время: {end} секунд\")"
   ]
  },
  {
   "attachments": {},
   "cell_type": "markdown",
   "metadata": {},
   "source": [
    "## implicit CosineRecommender"
   ]
  },
  {
   "attachments": {},
   "cell_type": "markdown",
   "metadata": {},
   "source": [
    "Построим модель"
   ]
  },
  {
   "cell_type": "code",
   "execution_count": 24,
   "metadata": {},
   "outputs": [
    {
     "name": "stderr",
     "output_type": "stream",
     "text": [
      "/Users/grshchnkv/opt/anaconda3/envs/Lastfm-artist-recommender/lib/python3.10/site-packages/implicit/utils.py:138: ParameterWarning: Method expects CSR input, and was passed coo_matrix instead. Converting to CSR took 0.0007498264312744141 seconds\n",
      "  warnings.warn(\n",
      "100%|██████████| 17493/17493 [00:00<00:00, 157024.51it/s]\n"
     ]
    }
   ],
   "source": [
    "cos_rec = implicit.nearest_neighbours.CosineRecommender(K=200)\n",
    "cos_rec.fit(scrobbles_sparse_normalized)"
   ]
  },
  {
   "cell_type": "code",
   "execution_count": 25,
   "metadata": {},
   "outputs": [],
   "source": [
    "pickle.dump(cos_rec, open(\"cos_rec.pkl\", \"wb\"))\n",
    "size = os.path.getsize(\"cos_rec.pkl\")"
   ]
  },
  {
   "attachments": {},
   "cell_type": "markdown",
   "metadata": {},
   "source": [
    "Построим рекомендации"
   ]
  },
  {
   "cell_type": "code",
   "execution_count": 26,
   "metadata": {},
   "outputs": [],
   "source": [
    "def get_k_similar_cos(target: int, k: int) -> list:\n",
    "    indices, distances = cos_rec.similar_items(target-1, N=5, filter_items=[target-1])\n",
    "    return [x+1 for x in indices]"
   ]
  },
  {
   "cell_type": "code",
   "execution_count": 27,
   "metadata": {},
   "outputs": [
    {
     "name": "stderr",
     "output_type": "stream",
     "text": [
      "100%|██████████| 1892/1892 [00:13<00:00, 140.26it/s]\n"
     ]
    }
   ],
   "source": [
    "start = time.time()\n",
    "scores = []\n",
    "users = 0\n",
    "for user in tqdm(validation):\n",
    "    if len(validation[user]) <= 1:\n",
    "        continue\n",
    "    predictions = []\n",
    "    for artist in validation[user]:\n",
    "        predictions += get_k_similar_cos(artist, k)\n",
    "    scores.append(precision(validation[user], predictions))\n",
    "    users += 1\n",
    "score = mean_precision(scores, users)\n",
    "end = time.time() - start"
   ]
  },
  {
   "attachments": {},
   "cell_type": "markdown",
   "metadata": {},
   "source": [
    "Оценка"
   ]
  },
  {
   "cell_type": "code",
   "execution_count": 28,
   "metadata": {},
   "outputs": [
    {
     "name": "stdout",
     "output_type": "stream",
     "text": [
      "Метрика: 0.07592253366226333\n",
      "Затраченная память: 18903830 байт\n",
      "Затраченное время: 13.493268966674805 секунд\n"
     ]
    }
   ],
   "source": [
    "print(f\"Метрика: {score}\")\n",
    "print(f\"Затраченная память: {size} байт\")\n",
    "print(f\"Затраченное время: {end} секунд\")"
   ]
  },
  {
   "attachments": {},
   "cell_type": "markdown",
   "metadata": {},
   "source": [
    "## implicit ALS"
   ]
  },
  {
   "attachments": {},
   "cell_type": "markdown",
   "metadata": {},
   "source": [
    "Построим модель"
   ]
  },
  {
   "cell_type": "code",
   "execution_count": 29,
   "metadata": {},
   "outputs": [
    {
     "name": "stderr",
     "output_type": "stream",
     "text": [
      "100%|██████████| 15/15 [00:35<00:00,  2.34s/it]\n"
     ]
    }
   ],
   "source": [
    "als = implicit.als.AlternatingLeastSquares(factors=64)\n",
    "als.fit(scrobbles_sparse_normalized)"
   ]
  },
  {
   "cell_type": "code",
   "execution_count": 30,
   "metadata": {},
   "outputs": [],
   "source": [
    "pickle.dump(als, open(\"als.pkl\", \"wb\"))\n",
    "size = os.path.getsize(\"als.pkl\")"
   ]
  },
  {
   "attachments": {},
   "cell_type": "markdown",
   "metadata": {},
   "source": [
    "Построим рекомендации"
   ]
  },
  {
   "cell_type": "code",
   "execution_count": 31,
   "metadata": {},
   "outputs": [],
   "source": [
    "def get_k_similar_als(target: int, k: int) -> list:\n",
    "    indices, distances = als.similar_items(target-1, N=5, filter_items=[target-1])\n",
    "    return [x+1 for x in indices]"
   ]
  },
  {
   "cell_type": "code",
   "execution_count": 32,
   "metadata": {},
   "outputs": [
    {
     "name": "stderr",
     "output_type": "stream",
     "text": [
      "100%|██████████| 1892/1892 [00:32<00:00, 58.71it/s]\n"
     ]
    }
   ],
   "source": [
    "start = time.time()\n",
    "scores = []\n",
    "users = 0\n",
    "for user in tqdm(validation):\n",
    "    if len(validation[user]) <= 1:\n",
    "        continue\n",
    "    predictions = []\n",
    "    for artist in validation[user]:\n",
    "        predictions += get_k_similar_als(artist, k)\n",
    "    scores.append(precision(validation[user], predictions))\n",
    "    users += 1\n",
    "score = mean_precision(scores, users)\n",
    "end = time.time() - start"
   ]
  },
  {
   "attachments": {},
   "cell_type": "markdown",
   "metadata": {},
   "source": [
    "Оценка"
   ]
  },
  {
   "cell_type": "code",
   "execution_count": 33,
   "metadata": {},
   "outputs": [
    {
     "name": "stdout",
     "output_type": "stream",
     "text": [
      "Метрика: 0.08763938391136546\n",
      "Затраченная память: 4963084 байт\n",
      "Затраченное время: 32.22958588600159 секунд\n"
     ]
    }
   ],
   "source": [
    "print(f\"Метрика: {score}\")\n",
    "print(f\"Затраченная память: {size} байт\")\n",
    "print(f\"Затраченное время: {end} секунд\")"
   ]
  }
 ],
 "metadata": {
  "kernelspec": {
   "display_name": "Lastfm-artist-recommender",
   "language": "python",
   "name": "python3"
  },
  "language_info": {
   "codemirror_mode": {
    "name": "ipython",
    "version": 3
   },
   "file_extension": ".py",
   "mimetype": "text/x-python",
   "name": "python",
   "nbconvert_exporter": "python",
   "pygments_lexer": "ipython3",
   "version": "3.10.10"
  },
  "orig_nbformat": 4
 },
 "nbformat": 4,
 "nbformat_minor": 2
}
